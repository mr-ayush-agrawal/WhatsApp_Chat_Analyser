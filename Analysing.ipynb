{
 "cells": [
  {
   "cell_type": "code",
   "execution_count": 30,
   "metadata": {},
   "outputs": [
    {
     "data": {
      "text/html": [
       "<div>\n",
       "<style scoped>\n",
       "    .dataframe tbody tr th:only-of-type {\n",
       "        vertical-align: middle;\n",
       "    }\n",
       "\n",
       "    .dataframe tbody tr th {\n",
       "        vertical-align: top;\n",
       "    }\n",
       "\n",
       "    .dataframe thead th {\n",
       "        text-align: right;\n",
       "    }\n",
       "</style>\n",
       "<table border=\"1\" class=\"dataframe\">\n",
       "  <thead>\n",
       "    <tr style=\"text-align: right;\">\n",
       "      <th></th>\n",
       "      <th>Message</th>\n",
       "      <th>Sender</th>\n",
       "      <th>Year</th>\n",
       "      <th>Month</th>\n",
       "      <th>Day</th>\n",
       "      <th>Hour</th>\n",
       "      <th>Minute</th>\n",
       "    </tr>\n",
       "  </thead>\n",
       "  <tbody>\n",
       "    <tr>\n",
       "      <th>3</th>\n",
       "      <td>Interviews me issi me karvate hai\\n</td>\n",
       "      <td>Rishi</td>\n",
       "      <td>2022</td>\n",
       "      <td>December</td>\n",
       "      <td>27</td>\n",
       "      <td>12</td>\n",
       "      <td>1</td>\n",
       "    </tr>\n",
       "    <tr>\n",
       "      <th>4</th>\n",
       "      <td>Interview toh nhi hi dena hai, degree le bhi l...</td>\n",
       "      <td>Dani</td>\n",
       "      <td>2022</td>\n",
       "      <td>December</td>\n",
       "      <td>27</td>\n",
       "      <td>12</td>\n",
       "      <td>1</td>\n",
       "    </tr>\n",
       "    <tr>\n",
       "      <th>5</th>\n",
       "      <td>Chutoya h bsdk ....unka khudka environment hot...</td>\n",
       "      <td>Shushu Bhai IIITDM</td>\n",
       "      <td>2022</td>\n",
       "      <td>December</td>\n",
       "      <td>27</td>\n",
       "      <td>12</td>\n",
       "      <td>1</td>\n",
       "    </tr>\n",
       "    <tr>\n",
       "      <th>6</th>\n",
       "      <td>Jake dekh yt pe google kisme karvata hai inter...</td>\n",
       "      <td>Rishi</td>\n",
       "      <td>2022</td>\n",
       "      <td>December</td>\n",
       "      <td>27</td>\n",
       "      <td>12</td>\n",
       "      <td>1</td>\n",
       "    </tr>\n",
       "    <tr>\n",
       "      <th>7</th>\n",
       "      <td>@919179170555 kya liya hai bhai NPTEL?\\n</td>\n",
       "      <td>Dani</td>\n",
       "      <td>2022</td>\n",
       "      <td>December</td>\n",
       "      <td>27</td>\n",
       "      <td>12</td>\n",
       "      <td>2</td>\n",
       "    </tr>\n",
       "  </tbody>\n",
       "</table>\n",
       "</div>"
      ],
      "text/plain": [
       "                                             Message              Sender  \\\n",
       "3                Interviews me issi me karvate hai\\n               Rishi   \n",
       "4  Interview toh nhi hi dena hai, degree le bhi l...                Dani   \n",
       "5  Chutoya h bsdk ....unka khudka environment hot...  Shushu Bhai IIITDM   \n",
       "6  Jake dekh yt pe google kisme karvata hai inter...               Rishi   \n",
       "7           @919179170555 kya liya hai bhai NPTEL?\\n                Dani   \n",
       "\n",
       "   Year     Month  Day  Hour  Minute  \n",
       "3  2022  December   27    12       1  \n",
       "4  2022  December   27    12       1  \n",
       "5  2022  December   27    12       1  \n",
       "6  2022  December   27    12       1  \n",
       "7  2022  December   27    12       2  "
      ]
     },
     "execution_count": 30,
     "metadata": {},
     "output_type": "execute_result"
    }
   ],
   "source": [
    "import pandas as pd\n",
    "import matplotlib.pyplot as plt\n",
    "import numpy as np\n",
    "\n",
    "Data = pd.read_csv(\"ProcessedChat.csv\", index_col=0)\n",
    "Data['Year'] = Data['Year'].astype(np.int32)\n",
    "Data['Day'] = Data['Day'].astype(np.int32)\n",
    "Data['Hour'] = Data['Hour'].astype(np.int32)\n",
    "Data['Minute'] = Data['Minute'].astype(np.int32)\n",
    "Data.drop(Data[Data.Sender == 'Notification'].index, inplace= True)\n",
    "Data.head()"
   ]
  },
  {
   "cell_type": "code",
   "execution_count": 31,
   "metadata": {},
   "outputs": [
    {
     "data": {
      "text/plain": [
       "Message    object\n",
       "Sender     object\n",
       "Year        int32\n",
       "Month      object\n",
       "Day         int32\n",
       "Hour        int32\n",
       "Minute      int32\n",
       "dtype: object"
      ]
     },
     "execution_count": 31,
     "metadata": {},
     "output_type": "execute_result"
    }
   ],
   "source": [
    "Data.dtypes"
   ]
  },
  {
   "cell_type": "code",
   "execution_count": 33,
   "metadata": {},
   "outputs": [
    {
     "data": {
      "text/plain": [
       "Sender\n",
       "Dani                  1338\n",
       "Rishi                 1130\n",
       "Pushkar Bhai          1032\n",
       "Booboo Bhai            892\n",
       "Yusuf IIITDM           365\n",
       "Shushu Bhai IIITDM     261\n",
       "Ayush                  198\n",
       "Name: count, dtype: int64"
      ]
     },
     "execution_count": 33,
     "metadata": {},
     "output_type": "execute_result"
    }
   ],
   "source": [
    "# Message send by Total message send by eveyone\n",
    "BusyUsers  = Data.Sender.value_counts().head(7)\n",
    "BusyUsers"
   ]
  },
  {
   "cell_type": "code",
   "execution_count": 27,
   "metadata": {},
   "outputs": [
    {
     "data": {
      "text/plain": [
       "<BarContainer object of 7 artists>"
      ]
     },
     "execution_count": 27,
     "metadata": {},
     "output_type": "execute_result"
    },
    {
     "data": {
      "image/png": "[encoded data removed]",
      "text/plain": [
       "<Figure size 1200x500 with 1 Axes>"
      ]
     },
     "metadata": {},
     "output_type": "display_data"
    }
   ],
   "source": [
    "plt.figure(figsize=(12,5))\n",
    "plt.bar(BusyUsers.index, BusyUsers.values)"
   ]
  },
  {
   "cell_type": "markdown",
   "metadata": {},
   "source": [
    "Calculating the percentage of Message sent"
   ]
  },
  {
   "cell_type": "code",
   "execution_count": 43,
   "metadata": {},
   "outputs": [
    {
     "data": {
      "text/html": [
       "<div>\n",
       "<style scoped>\n",
       "    .dataframe tbody tr th:only-of-type {\n",
       "        vertical-align: middle;\n",
       "    }\n",
       "\n",
       "    .dataframe tbody tr th {\n",
       "        vertical-align: top;\n",
       "    }\n",
       "\n",
       "    .dataframe thead th {\n",
       "        text-align: right;\n",
       "    }\n",
       "</style>\n",
       "<table border=\"1\" class=\"dataframe\">\n",
       "  <thead>\n",
       "    <tr style=\"text-align: right;\">\n",
       "      <th></th>\n",
       "      <th>Sender</th>\n",
       "      <th>Percent</th>\n",
       "    </tr>\n",
       "  </thead>\n",
       "  <tbody>\n",
       "    <tr>\n",
       "      <th>0</th>\n",
       "      <td>Dani</td>\n",
       "      <td>25.65</td>\n",
       "    </tr>\n",
       "    <tr>\n",
       "      <th>1</th>\n",
       "      <td>Rishi</td>\n",
       "      <td>21.66</td>\n",
       "    </tr>\n",
       "    <tr>\n",
       "      <th>2</th>\n",
       "      <td>Pushkar Bhai</td>\n",
       "      <td>19.79</td>\n",
       "    </tr>\n",
       "    <tr>\n",
       "      <th>3</th>\n",
       "      <td>Booboo Bhai</td>\n",
       "      <td>17.10</td>\n",
       "    </tr>\n",
       "    <tr>\n",
       "      <th>4</th>\n",
       "      <td>Yusuf IIITDM</td>\n",
       "      <td>7.00</td>\n",
       "    </tr>\n",
       "    <tr>\n",
       "      <th>5</th>\n",
       "      <td>Shushu Bhai IIITDM</td>\n",
       "      <td>5.00</td>\n",
       "    </tr>\n",
       "    <tr>\n",
       "      <th>6</th>\n",
       "      <td>Ayush</td>\n",
       "      <td>3.80</td>\n",
       "    </tr>\n",
       "  </tbody>\n",
       "</table>\n",
       "</div>"
      ],
      "text/plain": [
       "               Sender  Percent\n",
       "0                Dani    25.65\n",
       "1               Rishi    21.66\n",
       "2        Pushkar Bhai    19.79\n",
       "3         Booboo Bhai    17.10\n",
       "4        Yusuf IIITDM     7.00\n",
       "5  Shushu Bhai IIITDM     5.00\n",
       "6               Ayush     3.80"
      ]
     },
     "execution_count": 43,
     "metadata": {},
     "output_type": "execute_result"
    }
   ],
   "source": [
    "round((Data.Sender.value_counts()/Data.shape[0])*100,2).reset_index().rename(columns = {'count':\"Percent\"})\n",
    "# This is in the form of a DataFrame"
   ]
  },
  {
   "cell_type": "code",
   "execution_count": null,
   "metadata": {},
   "outputs": [],
   "source": []
  }
 ],
 "metadata": {
  "kernelspec": {
   "display_name": "whatschat_Analysis",
   "language": "python",
   "name": "python3"
  },
  "language_info": {
   "codemirror_mode": {
    "name": "ipython",
    "version": 3
   },
   "file_extension": ".py",
   "mimetype": "text/x-python",
   "name": "python",
   "nbconvert_exporter": "python",
   "pygments_lexer": "ipython3",
   "version": "3.11.1"
  },
  "orig_nbformat": 4
 },
 "nbformat": 4,
 "nbformat_minor": 2
}
